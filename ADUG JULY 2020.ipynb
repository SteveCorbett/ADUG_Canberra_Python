{
 "cells": [
  {
   "cell_type": "markdown",
   "metadata": {},
   "source": [
    "# Import the libraries we're going to use"
   ]
  },
  {
   "cell_type": "code",
   "execution_count": null,
   "metadata": {},
   "outputs": [],
   "source": [
    "import math\n",
    "import collections\n",
    "import urllib\n",
    "\n",
    "import numpy as np\n",
    "import pandas as pd\n",
    "import matplotlib.pyplot as plt\n",
    "\n",
    "# So the graphs don't appear elsewhere\n",
    "%matplotlib inline"
   ]
  },
  {
   "cell_type": "markdown",
   "metadata": {},
   "source": [
    "# Weather stations"
   ]
  },
  {
   "cell_type": "code",
   "execution_count": null,
   "metadata": {},
   "outputs": [],
   "source": [
    "urllib.request.urlretrieve('https://www1.ncdc.noaa.gov/pub/data/ghcn/daily/ghcnd-stations.txt','stations.txt')\n",
    "                             \n",
    "  \n",
    "# FORMAT OF \"ghcnd-stations.txt\"\n",
    "# ------------------------------\n",
    "# Variable   Columns   Type\n",
    "# ------------------------------\n",
    "# ID            1-11   Character\n",
    "# LATITUDE     13-20   Real\n",
    "# LONGITUDE    22-30   Real\n",
    "# ELEVATION    32-37   Real\n",
    "# STATE        39-40   Character\n",
    "# NAME         42-71   Character\n",
    "# GSN FLAG     73-75   Character\n",
    "# HCN/CRN FLAG 77-79   Character\n",
    "# WMO ID       81-85   Character\n",
    "# ------------------------------"
   ]
  },
  {
   "cell_type": "code",
   "execution_count": null,
   "metadata": {},
   "outputs": [],
   "source": [
    "# parse the stations.txt file\n",
    "allstations = np.genfromtxt('stations.txt', delimiter=[11,9,10,7,3,31,4,4,6],\n",
    "                                            usecols=[0,1,2,3,4,5,6,7,8],\n",
    "                                            names=['id','latitude','longitude','elevation','state','name','gsn','hcn','wmo'],\n",
    "                                            dtype=['U11','d','d','d','U3','U31','U4','U4','U6'],\n",
    "                                            autostrip=True)\n",
    "allstations"
   ]
  },
  {
   "cell_type": "code",
   "execution_count": null,
   "metadata": {},
   "outputs": [],
   "source": [
    "len(allstations)"
   ]
  },
  {
   "cell_type": "code",
   "execution_count": null,
   "metadata": {
    "scrolled": false
   },
   "outputs": [],
   "source": [
    "fig = plt.figure(figsize=(15,8))\n",
    "plt.scatter(allstations['longitude'], allstations['latitude'], s=0.8)\n",
    "plt.show()"
   ]
  },
  {
   "cell_type": "code",
   "execution_count": null,
   "metadata": {
    "scrolled": true
   },
   "outputs": [],
   "source": [
    "aust = allstations[(allstations['longitude'] > 115) & (allstations['longitude'] < 155)\n",
    "                   & (allstations['latitude'] < -7) & (allstations['latitude'] > -50)]\n",
    "print(len(aust))\n",
    "aust"
   ]
  },
  {
   "cell_type": "code",
   "execution_count": null,
   "metadata": {},
   "outputs": [],
   "source": [
    "fig = plt.figure(figsize=(9, 8))\n",
    "plt.scatter(aust['longitude'], aust['latitude'], s=0.5)\n",
    "plt.show()"
   ]
  },
  {
   "cell_type": "markdown",
   "metadata": {},
   "source": [
    "# Plotting Data"
   ]
  },
  {
   "cell_type": "code",
   "execution_count": null,
   "metadata": {},
   "outputs": [],
   "source": [
    "data = [np.random.normal(0, std, 100) for std in range(1, 4)]\n",
    "data"
   ]
  },
  {
   "cell_type": "code",
   "execution_count": null,
   "metadata": {},
   "outputs": [],
   "source": [
    "plt.boxplot(data, vert=True,patch_artist=True)\n",
    "plt.show()"
   ]
  },
  {
   "cell_type": "markdown",
   "metadata": {},
   "source": [
    "# Pandas \"DataFrames\""
   ]
  },
  {
   "cell_type": "code",
   "execution_count": null,
   "metadata": {},
   "outputs": [],
   "source": [
    "data = {'Company': ['GOOG', 'GOOG', 'MSFT', 'MSFT', 'FB', 'FB', 'FB', 'GOOG'],\n",
    "       'Person':['Sam', 'Charlie', 'Amy', 'Vanessa', 'Carl', 'Sarah', 'Bill', 'Cherry'],\n",
    "       'Sales':[200,210,340,124,205,250, 45, 30], 'Costs':[190,110,300,64,105,450,20, 25]}\n",
    "data"
   ]
  },
  {
   "cell_type": "code",
   "execution_count": null,
   "metadata": {},
   "outputs": [],
   "source": [
    "df = pd.DataFrame(data)\n",
    "df"
   ]
  },
  {
   "cell_type": "code",
   "execution_count": null,
   "metadata": {},
   "outputs": [],
   "source": [
    "df.info()"
   ]
  },
  {
   "cell_type": "code",
   "execution_count": null,
   "metadata": {},
   "outputs": [],
   "source": [
    "df.describe()"
   ]
  },
  {
   "cell_type": "code",
   "execution_count": null,
   "metadata": {},
   "outputs": [],
   "source": [
    "df.describe().transpose()"
   ]
  },
  {
   "cell_type": "code",
   "execution_count": null,
   "metadata": {},
   "outputs": [],
   "source": [
    "df.groupby('Company').describe()"
   ]
  },
  {
   "cell_type": "code",
   "execution_count": null,
   "metadata": {},
   "outputs": [],
   "source": [
    "sales = df.groupby('Company')['Sales'].sum()\n",
    "costs = df.groupby('Company')['Costs'].sum()\n",
    "(costs, sales)"
   ]
  },
  {
   "cell_type": "code",
   "execution_count": null,
   "metadata": {
    "scrolled": false
   },
   "outputs": [],
   "source": [
    "fig, ax1 = plt.subplots(figsize=(10, 5))\n",
    "ax1.set_ylim([250,600])\n",
    "ax1.plot(sales.index, sales, lw=2, color='blue')\n",
    "ax1.set_ylabel(\"Sales\", fontsize=16, color='blue')\n",
    "for label in ax1.get_yticklabels():\n",
    "    label.set_color('blue')\n",
    "\n",
    "ax2 = ax1.twinx()\n",
    "ax2.set_ylim([250,600])\n",
    "ax2.plot(costs.index, costs, lw=2, color='red')\n",
    "ax2.set_ylabel(\"Costs\", fontsize=16, color='red')\n",
    "for label in ax2.get_yticklabels():\n",
    "    label.set_color('red')\n",
    "    \n",
    "ax1.text('GOOG', 470, \"Sales\", color='blue', fontsize=18)    \n",
    "ax2.text('GOOG', 340, \"Costs\", color='red', fontsize=18)\n"
   ]
  },
  {
   "cell_type": "code",
   "execution_count": null,
   "metadata": {},
   "outputs": [],
   "source": [
    "# This was not in the original demonstration but to save\n",
    "# to save the graphic:\n",
    "fig.savefig('Cost vs Sales.pdf')\n",
    "fig.savefig('Cost vs Sales.png')"
   ]
  },
  {
   "cell_type": "markdown",
   "metadata": {},
   "source": [
    "# Seaborn...Wrapper around Matplotlib"
   ]
  },
  {
   "cell_type": "code",
   "execution_count": null,
   "metadata": {},
   "outputs": [],
   "source": [
    "import seaborn as sns"
   ]
  },
  {
   "cell_type": "code",
   "execution_count": null,
   "metadata": {},
   "outputs": [],
   "source": [
    "sns.boxplot(x=\"Company\", y='Sales', data =df, palette='coolwarm')"
   ]
  },
  {
   "cell_type": "markdown",
   "metadata": {},
   "source": [
    "# Back to the Weather"
   ]
  },
  {
   "cell_type": "code",
   "execution_count": null,
   "metadata": {},
   "outputs": [],
   "source": [
    "allstations[np.char.find(allstations['name'], \"CANBERRA\") == 0]"
   ]
  },
  {
   "cell_type": "code",
   "execution_count": null,
   "metadata": {},
   "outputs": [],
   "source": [
    "urllib.request.urlretrieve('https://www1.ncdc.noaa.gov/pub/data/ghcn/daily/all/ASN00070014.dly', 'AIRPORT.dly') \n",
    "\n",
    "# FORMAT OF \"*.dly\" files\n",
    "# ------------------------------\n",
    "# Variable   Columns   Type\n",
    "# ------------------------------\n",
    "# ID            1-11   Character\n",
    "# YEAR         12-15   Integer\n",
    "# MONTH        16-17   Integer\n",
    "# ELEMENT      18-21   Character\n",
    "# VALUE1       22-26   Integer\n",
    "# MFLAG1       27-27   Character\n",
    "# QFLAG1       28-28   Character\n",
    "# SFLAG1       29-29   Character\n",
    "# VALUE2       30-34   Integer\n",
    "# MFLAG2       35-35   Character\n",
    "# QFLAG2       36-36   Character\n",
    "# SFLAG2       37-37   Character\n",
    "#   .           .          .\n",
    "#   .           .          .\n",
    "#   .           .          .\n",
    "# VALUE31    262-266   Integer\n",
    "# MFLAG31    267-267   Character\n",
    "# QFLAG31    268-268   Character\n",
    "# SFLAG31    269-269   Character\n",
    "# ------------------------------\n"
   ]
  },
  {
   "cell_type": "code",
   "execution_count": null,
   "metadata": {},
   "outputs": [],
   "source": [
    "w = np.genfromtxt('AIRPORT.dly',\n",
    "                   delimiter=[11,4,2,4] + [5,1,1,1]*31,\n",
    "                   # we will not use the daily flags, so this list becomes\n",
    "                   # 0, 1, 2, 3, 4, 8, 12, 16, 20, 24...\n",
    "                   usecols=[0,1,2,3] + list(range(4,4*32,4)),\n",
    "                   # the names of the daily observations will be day1, day2, day3, ...\n",
    "                   names=['id','year','month','element'] + [f'day{i}' for i in range(1,32)],\n",
    "                   dtype=['U11','i','i','U4'] + ['d']*31,\n",
    "                   autostrip=True)\n",
    "w"
   ]
  },
  {
   "cell_type": "code",
   "execution_count": null,
   "metadata": {},
   "outputs": [],
   "source": [
    "df = pd.DataFrame(w)\n",
    "df"
   ]
  },
  {
   "cell_type": "code",
   "execution_count": null,
   "metadata": {},
   "outputs": [],
   "source": [
    "    # \"melt\" the daily observations into one record per daily observation,\n",
    "    # storing the column name in 'day'\n",
    "    df = pd.melt(df, id_vars=['id','year','month','element'], var_name='day', value_name='value')\n",
    "    \n",
    "    # throw away null observations\n",
    "    df = df[df.value != -9999]\n",
    "    df"
   ]
  },
  {
   "cell_type": "code",
   "execution_count": null,
   "metadata": {},
   "outputs": [],
   "source": [
    "# keep only min/max temperatures, precipitation, and snow\n",
    "df = df[df.element.isin(['TMAX','TMIN','PRCP','SNOW'])]\n",
    "df"
   ]
  },
  {
   "cell_type": "code",
   "execution_count": null,
   "metadata": {},
   "outputs": [],
   "source": [
    "df['day'] = df.day.apply(lambda x: int(x[3:]))\n",
    "df"
   ]
  },
  {
   "cell_type": "code",
   "execution_count": null,
   "metadata": {},
   "outputs": [],
   "source": [
    "df.info()"
   ]
  },
  {
   "cell_type": "code",
   "execution_count": null,
   "metadata": {},
   "outputs": [],
   "source": [
    "df['date'] = pd.to_datetime(df[['year','month','day']], errors='ignore')\n",
    "df"
   ]
  },
  {
   "cell_type": "code",
   "execution_count": null,
   "metadata": {},
   "outputs": [],
   "source": [
    "# keep only year, date, element, and value\n",
    "df = df[['date','element','value']]\n",
    "df"
   ]
  },
  {
   "cell_type": "code",
   "execution_count": null,
   "metadata": {},
   "outputs": [],
   "source": [
    "# restructure the DataFrame so that different elements for the same day appear in the same row\n",
    "# (basically the opposite of melt)\n",
    "df = df.pivot(index='date', columns='element')['value']\n",
    "df.columns.name = None    \n",
    "df"
   ]
  },
  {
   "cell_type": "code",
   "execution_count": null,
   "metadata": {},
   "outputs": [],
   "source": [
    "df.info()"
   ]
  },
  {
   "cell_type": "code",
   "execution_count": null,
   "metadata": {},
   "outputs": [],
   "source": [
    "# Convert temperatures to degrees    \n",
    "df['TMIN'] /= 10.0\n",
    "df['TMAX'] /= 10.0\n",
    "df"
   ]
  },
  {
   "cell_type": "code",
   "execution_count": null,
   "metadata": {
    "scrolled": true
   },
   "outputs": [],
   "source": [
    "df['year'] = pd.DatetimeIndex(df.index).year\n",
    "df"
   ]
  },
  {
   "cell_type": "code",
   "execution_count": null,
   "metadata": {
    "scrolled": true
   },
   "outputs": [],
   "source": [
    "df2001 = df[df[\"year\"] == 2001]\n",
    "df2001 = df2001[['TMAX','TMIN','PRCP']]\n",
    "df2001"
   ]
  },
  {
   "cell_type": "code",
   "execution_count": null,
   "metadata": {
    "scrolled": true
   },
   "outputs": [],
   "source": [
    "fig, axes = plt.subplots(figsize=(14, 6))\n",
    "ax = sns.lineplot(data=df2001)"
   ]
  },
  {
   "cell_type": "code",
   "execution_count": null,
   "metadata": {
    "scrolled": true
   },
   "outputs": [],
   "source": [
    "df.hist(figsize=(16, 8), bins=50, xlabelsize=8, ylabelsize=8)\n",
    "plt.show()"
   ]
  },
  {
   "cell_type": "code",
   "execution_count": null,
   "metadata": {},
   "outputs": [],
   "source": [
    "sns.pairplot(df)\n",
    "plt.show()"
   ]
  },
  {
   "cell_type": "markdown",
   "metadata": {},
   "source": [
    "# That's all folks!"
   ]
  }
 ],
 "metadata": {
  "kernelspec": {
   "display_name": "Python 3",
   "language": "python",
   "name": "python3"
  },
  "language_info": {
   "codemirror_mode": {
    "name": "ipython",
    "version": 3
   },
   "file_extension": ".py",
   "mimetype": "text/x-python",
   "name": "python",
   "nbconvert_exporter": "python",
   "pygments_lexer": "ipython3",
   "version": "3.7.6"
  }
 },
 "nbformat": 4,
 "nbformat_minor": 4
}
